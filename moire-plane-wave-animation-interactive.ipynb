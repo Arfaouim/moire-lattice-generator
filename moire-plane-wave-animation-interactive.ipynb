{
 "cells": [
  {
   "cell_type": "markdown",
   "metadata": {},
   "source": [
    "# Interactive generation of graphene moiré lattices\n",
    "Author: [Tobias A. de Jong](https://github.com/TAdeJong)\n",
    "\n",
    "This notebook uses `numpy`, `dask` and `matplotlib` to easily generate moiré lattices of two hexagonal graphene lattices. Using `ipywidgets`, we create an interactive plot where the angle can be adopted."
   ]
  },
  {
   "cell_type": "code",
   "execution_count": 1,
   "metadata": {},
   "outputs": [],
   "source": [
    "import numpy as np\n",
    "import matplotlib.pyplot as plt\n",
    "\n",
    "import ipywidgets as widgets\n",
    "\n",
    "import dask.array as da\n",
    "\n",
    "from latticegeneration import hexlattice_gen\n",
    "from dask.distributed import Client, LocalCluster\n",
    "\n",
    "import colorcet as cc"
   ]
  },
  {
   "cell_type": "code",
   "execution_count": 2,
   "metadata": {},
   "outputs": [
    {
     "data": {
      "text/html": [
       "<table style=\"border: 2px solid white;\">\n",
       "<tr>\n",
       "<td style=\"vertical-align: top; border: 0px solid white\">\n",
       "<h3 style=\"text-align: left;\">Client</h3>\n",
       "<ul style=\"text-align: left; list-style: none; margin: 0; padding: 0;\">\n",
       "  <li><b>Scheduler: </b>tcp://127.0.0.1:33747</li>\n",
       "  <li><b>Dashboard: </b><a href='http://127.0.0.1:8787/status' target='_blank'>http://127.0.0.1:8787/status</a></li>\n",
       "</ul>\n",
       "</td>\n",
       "<td style=\"vertical-align: top; border: 0px solid white\">\n",
       "<h3 style=\"text-align: left;\">Cluster</h3>\n",
       "<ul style=\"text-align: left; list-style:none; margin: 0; padding: 0;\">\n",
       "  <li><b>Workers: </b>1</li>\n",
       "  <li><b>Cores: </b>4</li>\n",
       "  <li><b>Memory: </b>2.00 GB</li>\n",
       "</ul>\n",
       "</td>\n",
       "</tr>\n",
       "</table>"
      ],
      "text/plain": [
       "<Client: 'tcp://127.0.0.1:33747' processes=1 threads=4, memory=2.00 GB>"
      ]
     },
     "execution_count": 2,
     "metadata": {},
     "output_type": "execute_result"
    }
   ],
   "source": [
    "# Create a dask cluster for parallel computation. Settings optimized to play nice with mybinder.org\n",
    "cluster = LocalCluster(n_workers=1, threads_per_worker=4, memory_limit='2GB')  \n",
    "client = Client(cluster)\n",
    "client"
   ]
  },
  {
   "cell_type": "code",
   "execution_count": 3,
   "metadata": {},
   "outputs": [],
   "source": [
    "S = 250  # Half size of visualization in pixels. Optimized for interactive rendering on mybinder.\n",
    "r_k = 0.2 \n",
    "a_0 = 0.246  # Lattice constant of graphene in nm"
   ]
  },
  {
   "cell_type": "code",
   "execution_count": 4,
   "metadata": {},
   "outputs": [
    {
     "data": {
      "application/vnd.jupyter.widget-view+json": {
       "model_id": "cc8e63341f47481baf0dca59016d3874",
       "version_major": 2,
       "version_minor": 0
      },
      "text/plain": [
       "interactive(children=(FloatSlider(value=1.05, continuous_update=False, description='twist  $\\\\theta$', max=5.0…"
      ]
     },
     "metadata": {},
     "output_type": "display_data"
    }
   ],
   "source": [
    "def plot(theta=1.05, kappa=1., psi=0., xi=0.):\n",
    "    \"\"\"Make a plot of a two stacked lattices, where the top lattice \n",
    "    is rotated by theta degrees, and stretched by kappa in \n",
    "    the direction psi degrees from the x-axis.\n",
    "    The total stack is rotated by 'xi' degrees.\n",
    "    \"\"\"\n",
    "    fig, ax = plt.subplots(figsize=[10,10])\n",
    "    iterated1 = 0.7*hexlattice_gen(r_k, xi, 2, S)\n",
    "    iterated2 = hexlattice_gen(r_k, theta+xi, 2, S, kappa=kappa, psi=psi)\n",
    "    data = (iterated1 + iterated2).compute()\n",
    "    im = ax.imshow(data.T, cmap='cet_fire_r', extent=[-S*r_k*a_0, S*r_k*a_0, S*r_k*a_0, -S*r_k*a_0], \n",
    "                   vmax=np.quantile(data,0.9),\n",
    "                   vmin=np.quantile(data,0.1),\n",
    "                  )\n",
    "    ax.set_xlabel('x (nm)')\n",
    "    ax.set_ylabel('y (nm)')\n",
    "    ax.set_title(f'$\\\\theta = {theta:.2f}^\\\\circ, \\\\kappa = {kappa:.2f}^\\\\circ, \\\\psi = {psi:.2f}^\\\\circ$')\n",
    "\n",
    "widgets.interactive(plot, \n",
    "                    theta=widgets.FloatSlider(value=1.05, min=0, max=5,step=0.05, \n",
    "                                              continuous_update=False, description='twist  $\\\\theta$'),\n",
    "                    kappa=widgets.FloatSlider(value=1.0, min=1, max=1.1,step=0.005, \n",
    "                                              continuous_update=False, readout_format='.3f', \n",
    "                                              description='strain $\\\\kappa$'),\n",
    "                    psi=widgets.FloatSlider(value=0, min=-90, max=90,step=5, \n",
    "                                            continuous_update=False, readout_format='.0f', \n",
    "                                            description='strain angle $\\\\psi$'),\n",
    "                    xi=widgets.FloatSlider(value=15, min=-90, max=90,step=5, \n",
    "                                           continuous_update=False, readout_format='.0f', \n",
    "                                           description='substrate angle $\\\\xi$'),\n",
    "   )"
   ]
  }
 ],
 "metadata": {
  "kernelspec": {
   "display_name": "Python [conda env:moire-gen]",
   "language": "python",
   "name": "conda-env-moire-gen-py"
  },
  "language_info": {
   "codemirror_mode": {
    "name": "ipython",
    "version": 3
   },
   "file_extension": ".py",
   "mimetype": "text/x-python",
   "name": "python",
   "nbconvert_exporter": "python",
   "pygments_lexer": "ipython3",
   "version": "3.8.5"
  }
 },
 "nbformat": 4,
 "nbformat_minor": 4
}
