{
 "cells": [
  {
   "cell_type": "markdown",
   "metadata": {},
   "source": [
    "# Interactive generation of graphene moiré lattices\n",
    "Author: [Tobias A. de Jong](https://github.com/TAdeJong)\n",
    "\n",
    "This notebook uses `numpy`, `dask` and `matplotlib` to easily generate moiré lattices of two hexagonal graphene lattices. Using `ipywidgets`, we create an interactive plot where the angle can be adopted."
   ]
  },
  {
   "cell_type": "code",
   "execution_count": 1,
   "metadata": {},
   "outputs": [],
   "source": [
    "import numpy as np\n",
    "import matplotlib.pyplot as plt\n",
    "import itertools as itert\n",
    "\n",
    "import ipywidgets as widgets\n",
    "\n",
    "import dask.array as da\n",
    "from dask.distributed import Client, LocalCluster\n",
    "\n",
    "import colorcet as cc"
   ]
  },
  {
   "cell_type": "code",
   "execution_count": 2,
   "metadata": {},
   "outputs": [
    {
     "data": {
      "text/html": [
       "<table style=\"border: 2px solid white;\">\n",
       "<tr>\n",
       "<td style=\"vertical-align: top; border: 0px solid white\">\n",
       "<h3 style=\"text-align: left;\">Client</h3>\n",
       "<ul style=\"text-align: left; list-style: none; margin: 0; padding: 0;\">\n",
       "  <li><b>Scheduler: </b>tcp://127.0.0.1:41529</li>\n",
       "  <li><b>Dashboard: </b><a href='http://127.0.0.1:8787/status' target='_blank'>http://127.0.0.1:8787/status</a>\n",
       "</ul>\n",
       "</td>\n",
       "<td style=\"vertical-align: top; border: 0px solid white\">\n",
       "<h3 style=\"text-align: left;\">Cluster</h3>\n",
       "<ul style=\"text-align: left; list-style:none; margin: 0; padding: 0;\">\n",
       "  <li><b>Workers: </b>1</li>\n",
       "  <li><b>Cores: </b>4</li>\n",
       "  <li><b>Memory: </b>2.00 GB</li>\n",
       "</ul>\n",
       "</td>\n",
       "</tr>\n",
       "</table>"
      ],
      "text/plain": [
       "<Client: 'tcp://127.0.0.1:41529' processes=1 threads=4, memory=2.00 GB>"
      ]
     },
     "execution_count": 2,
     "metadata": {},
     "output_type": "execute_result"
    }
   ],
   "source": [
    "# Create a dask cluster for parallel computation. Settings optimized to play nice with mybinder.org\n",
    "cluster = LocalCluster(n_workers=1, threads_per_worker=4, memory_limit='2GB')  \n",
    "client = Client(cluster)\n",
    "client"
   ]
  },
  {
   "cell_type": "code",
   "execution_count": null,
   "metadata": {},
   "outputs": [],
   "source": []
  },
  {
   "cell_type": "code",
   "execution_count": 3,
   "metadata": {},
   "outputs": [],
   "source": [
    "def rotate(vec, angle):\n",
    "    \"Rotate `vec` by `angle` around the origin\"\n",
    "    R = np.array([[np.cos(angle), -np.sin(angle)], \n",
    "                  [np.sin(angle), np.cos(angle)]])\n",
    "    return R @ vec"
   ]
  },
  {
   "cell_type": "code",
   "execution_count": 4,
   "metadata": {},
   "outputs": [],
   "source": [
    "S = 250\n",
    "r_k = 0.2 \n",
    "t0 = np.deg2rad(15)\n",
    "k0 = r_k*np.array([np.cos(t0), np.sin(t0)])\n",
    "a_0 = 0.246  #Lattice constant of graphene in nm"
   ]
  },
  {
   "cell_type": "code",
   "execution_count": 5,
   "metadata": {},
   "outputs": [],
   "source": [
    "def lattice_gen(k0, theta, order, size=250):\n",
    "    \"\"\"Generate a regular hexagonal lattice of `2*size` times `2*size`.\n",
    "    The lattice is generated from the six 60 degree rotations of `k0`,\n",
    "    further rotated by `theta` degrees. With higher order frequency\n",
    "    components upto order `order`\n",
    "    \n",
    "    The generated lattice gets returned as a dask array.\n",
    "    \"\"\"\n",
    "    xx, yy = da.meshgrid(np.arange(-size,size), np.arange(-size,size), indexing='ij')\n",
    "    ks = np.stack([rotate(rotate(k0, np.deg2rad(theta)), np.pi/3*i) for i in range(3)])\n",
    "    ks = np.concatenate([ks, -ks, np.array([[0,0]])])\n",
    "    # Yes, this is probably not the smartest way to do this\n",
    "    tks = np.array([np.sum(ksp, axis=0) for ksp in itert.product(*[ks]*order)])\n",
    "    rks, k_c = np.unique(tks, return_counts=True, axis=0)\n",
    "    rks = da.from_array(rks, chunks=(13,2))\n",
    "    iterated = k_c[:,None,None]*np.exp(np.pi*2*1j*(xx*rks[:,0,None,None] + yy*rks[:,1,None,None]))\n",
    "    iterated = iterated.sum(axis=0)\n",
    "    # Now add the second shifted sublattice lattice to get a hexagonal lattice\n",
    "    x = np.array([ks[1], -ks[2]])\n",
    "    shift = (np.linalg.inv(x).T/3).sum(axis=0)  # Don't ask, this works\n",
    "    iterated += (k_c[:,None,None]*np.exp(np.pi*2*1j*((xx + shift[0])*rks[:,0,None,None] + \n",
    "                                             (yy + shift[1])*rks[:,1,None,None]))).sum(axis=0)\n",
    "    return iterated.real\n"
   ]
  },
  {
   "cell_type": "code",
   "execution_count": 6,
   "metadata": {},
   "outputs": [
    {
     "data": {
      "application/vnd.jupyter.widget-view+json": {
       "model_id": "18990a775d3b4cf399a11500898c9d81",
       "version_major": 2,
       "version_minor": 0
      },
      "text/plain": [
       "interactive(children=(FloatSlider(value=1.05, continuous_update=False, description='theta', max=5.0, step=0.05…"
      ]
     },
     "metadata": {},
     "output_type": "display_data"
    }
   ],
   "source": [
    "iterated1 = 0.7*lattice_gen(k0, 0, 2, S).persist()\n",
    "\n",
    "def plot(theta=1.05):\n",
    "    \"Make a plot of a second lattice rotated by `theta` degrees on top of `iterated1`\"\n",
    "    fig, ax = plt.subplots(figsize=[10,10])\n",
    "    iterated2 = lattice_gen(k0, theta, 2, S)\n",
    "    data = (iterated1 + iterated2).compute()\n",
    "    im = ax.imshow(data.T, cmap='cet_fire_r', extent=[-S*r_k*a_0, S*r_k*a_0, S*r_k*a_0, -S*r_k*a_0], \n",
    "                   vmax=np.quantile(data,0.9),\n",
    "                   vmin=np.quantile(data,0.1),\n",
    "                  )\n",
    "    ax.set_xlabel('x (nm)')\n",
    "    ax.set_ylabel('y (nm)')\n",
    "    ax.set_title(f'$\\\\theta = {theta:.2f}^\\\\circ$')\n",
    "\n",
    "widgets.interactive(plot, \n",
    "    theta=widgets.FloatSlider(value=1.05, min=0, max=5,step=0.05, continuous_update=False),\n",
    "   )"
   ]
  },
  {
   "cell_type": "code",
   "execution_count": null,
   "metadata": {},
   "outputs": [],
   "source": []
  }
 ],
 "metadata": {
  "kernelspec": {
   "display_name": "Python [conda env:pyL5]",
   "language": "python",
   "name": "conda-env-pyL5-py"
  },
  "language_info": {
   "codemirror_mode": {
    "name": "ipython",
    "version": 3
   },
   "file_extension": ".py",
   "mimetype": "text/x-python",
   "name": "python",
   "nbconvert_exporter": "python",
   "pygments_lexer": "ipython3",
   "version": "3.7.7"
  }
 },
 "nbformat": 4,
 "nbformat_minor": 4
}
